{
 "cells": [
  {
   "cell_type": "code",
   "execution_count": 1,
   "metadata": {},
   "outputs": [
    {
     "name": "stderr",
     "output_type": "stream",
     "text": [
      "C:\\Users\\vhsm9\\anaconda3\\lib\\site-packages\\outdated\\utils.py:14: OutdatedPackageWarning: The package pingouin is out of date. Your version is 0.3.11, the latest is 0.5.0.\n",
      "Set the environment variable OUTDATED_IGNORE=1 to disable these warnings.\n",
      "  return warn(\n"
     ]
    }
   ],
   "source": [
    "import pandas as pd\n",
    "import numpy as np\n",
    "import pickle\n",
    "import matplotlib.pyplot as plt\n",
    "%matplotlib inline\n",
    "import scipy.stats as ss\n",
    "import scikit_posthocs as sp\n",
    "from pingouin import friedman\n",
    "import Orange"
   ]
  },
  {
   "cell_type": "code",
   "execution_count": 2,
   "metadata": {},
   "outputs": [],
   "source": [
    "def best_parameters(texture_selector, num_textures, features_set, feature_selector,\n",
    "                    feature_reduction, classifier, friedman_plot=True):\n",
    "    \n",
    "    \n",
    "    filename_open = 'results_training'\n",
    "    \n",
    "    if texture_selector == 'ALL':\n",
    "        filename_open += '_all'\n",
    "    elif texture_selector == 'LINSPACE':\n",
    "        filename_open += f'_linspace_{num_textures}'\n",
    "        \n",
    "    filename_open += f'_{features_set}'\n",
    "        \n",
    "    if feature_selector == '':\n",
    "        pass\n",
    "    else:\n",
    "        filename_open += f'_{feature_selector}'\n",
    "    \n",
    "    if feature_reduction == '':\n",
    "        pass\n",
    "    else:\n",
    "        filename_open += f'_{feature_reduction}'\n",
    "        \n",
    "    filename_open += f'_{classifier}.pkl'\n",
    "    \n",
    "        \n",
    "    with open(filename_open, 'rb') as f:\n",
    "        data = pickle.load(f)\n",
    "        \n",
    "    # Choosing the best parameter:\n",
    "\n",
    "    df_val_score = pd.DataFrame(data).T\n",
    "\n",
    "    print(round(df_val_score.mean()*100,2))\n",
    "\n",
    "    matrix_analysis = df_val_score.to_numpy()\n",
    "    labels = list(df_val_score.columns)\n",
    "\n",
    "    # Friedman Test\n",
    "    \n",
    "    if friedman_plot == True:  \n",
    "        \n",
    "        print('Friedman Test:\\n')\n",
    "        print('Option #1:')\n",
    "        print(ss.friedmanchisquare(*matrix_analysis.T))\n",
    "\n",
    "        print('\\nOption #2:')\n",
    "        \n",
    "        df_matrix_analysis = pd.DataFrame(matrix_analysis, columns=labels)\n",
    "        df_matrix_analysis['respID'] = range(1,len(df_matrix_analysis)+1)\n",
    "        longDf = pd.melt(df_matrix_analysis, id_vars='respID', var_name='item', value_name='score')\n",
    "        pgRes = friedman(data=longDf, dv='score', within='item', subject='respID')\n",
    "        display(pgRes)\n",
    "\n",
    "        # Post Hoc - Nemenyi Test (p-values):\n",
    "\n",
    "        print('\\nPost Hoc - Nemenyi (p-values):')\n",
    "        pc = sp.posthoc_nemenyi_friedman(df_matrix_analysis.drop(['respID'],axis=1))\n",
    "        display(pc)\n",
    "        cmap = ['1', '#fb6a4a',  '#08306b',  '#4292c6', '#c6dbef']\n",
    "        heatmap_args = {'cmap': cmap, 'linewidths': 0.25, 'linecolor': '0.5', 'clip_on': False, 'square': True, 'cbar_ax_bbox': [0.80, 0.35, 0.04, 0.3]}\n",
    "        sp.sign_plot(pc, **heatmap_args)\n",
    "        plt.show()\n",
    "\n",
    "\n",
    "    # Average Rank + CD Diagram:\n",
    "\n",
    "    rank_matrix = []\n",
    "\n",
    "    for line in range(0, matrix_analysis.shape[0]):\n",
    "        rank_matrix.append(ss.rankdata(-matrix_analysis[line,:]))\n",
    "\n",
    "    rank_matrix = np.array(rank_matrix)\n",
    "    avranks = rank_matrix.mean(axis=0)\n",
    "\n",
    "    cd = Orange.evaluation.compute_CD(avranks,100,alpha='0.05', test='nemenyi') #tested on 100 experiments\n",
    "    Orange.evaluation.graph_ranks(avranks, labels, cd=cd, width=10, textspace=1.5)\n",
    "    print(f'CD Diagram (CD = {cd:.2f}):')\n",
    "    plt.show()\n",
    "    \n",
    "    return"
   ]
  },
  {
   "cell_type": "code",
   "execution_count": 10,
   "metadata": {},
   "outputs": [
    {
     "name": "stdout",
     "output_type": "stream",
     "text": [
      "{'fs': 'manual', 'percentile': 100, 'fr': 'N', 'max_iter': 1000, 'C': 0.01}    80.28\n",
      "{'fs': 'manual', 'percentile': 100, 'fr': 'N', 'max_iter': 1000, 'C': 0.1}     80.47\n",
      "{'fs': 'manual', 'percentile': 100, 'fr': 'N', 'max_iter': 1000, 'C': 1}       80.51\n",
      "{'fs': 'manual', 'percentile': 100, 'fr': 'N', 'max_iter': 1000, 'C': 10}      80.53\n",
      "{'fs': 'manual', 'percentile': 100, 'fr': 'N', 'max_iter': 1000, 'C': 100}     80.53\n",
      "dtype: float64\n",
      "CD Diagram (CD = 0.61):\n"
     ]
    },
    {
     "data": {
      "image/png": "[encoded data removed]",
      "text/plain": [
       "<Figure size 720x118.8 with 1 Axes>"
      ]
     },
     "metadata": {},
     "output_type": "display_data"
    }
   ],
   "source": [
    "best_parameters(texture_selector = 'LINSPACE',\n",
    "                num_textures = 20,                   \n",
    "                features_set = 'delta_stats',         #['baseline', 'delta', 'stats', 'delta_stats', ...]\n",
    "                feature_selector = 'manual',\n",
    "                feature_reduction = '',\n",
    "                classifier = 'svm-linear',            #['logistic', 'knn', 'svm', 'rf', 'lgboost', ...]\n",
    "                friedman_plot = False)"
   ]
  }
 ],
 "metadata": {
  "kernelspec": {
   "display_name": "Python 3 (ipykernel)",
   "language": "python",
   "name": "python3"
  },
  "language_info": {
   "codemirror_mode": {
    "name": "ipython",
    "version": 3
   },
   "file_extension": ".py",
   "mimetype": "text/x-python",
   "name": "python",
   "nbconvert_exporter": "python",
   "pygments_lexer": "ipython3",
   "version": "3.8.13"
  }
 },
 "nbformat": 4,
 "nbformat_minor": 4
}
